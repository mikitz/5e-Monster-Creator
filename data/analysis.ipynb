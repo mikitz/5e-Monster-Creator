{
 "cells": [
  {
   "cell_type": "code",
   "execution_count": 25,
   "metadata": {},
   "outputs": [],
   "source": [
    "import pandas as pd\n",
    "df = pd.read_excel('bestiary.xlsx')"
   ]
  },
  {
   "cell_type": "code",
   "execution_count": 28,
   "metadata": {},
   "outputs": [
    {
     "data": {
      "text/plain": [
       "0       {'average': 187, 'formula': '15d12 + 90'}\n",
       "1          {'average': 52, 'formula': '8d8 + 16'}\n",
       "2           {'average': 33, 'formula': '6d8 + 6'}\n",
       "3         {'average': 52, 'formula': '7d10 + 14'}\n",
       "4           {'average': 22, 'formula': '4d8 + 4'}\n",
       "                          ...                    \n",
       "2904                                          NaN\n",
       "2905     {'average': 144, 'formula': '17d8 + 68'}\n",
       "2906                                          NaN\n",
       "2907                                          NaN\n",
       "2908            {'average': 10, 'formula': '4d4'}\n",
       "Name: hp, Length: 2909, dtype: object"
      ]
     },
     "execution_count": 28,
     "metadata": {},
     "output_type": "execute_result"
    }
   ],
   "source": [
    "df['hp']"
   ]
  },
  {
   "cell_type": "code",
   "execution_count": null,
   "metadata": {},
   "outputs": [],
   "source": []
  }
 ],
 "metadata": {
  "interpreter": {
   "hash": "2be5faf79681da6f2a61fdfdd5405d65d042280f7fba6178067603e3a2925119"
  },
  "kernelspec": {
   "display_name": "Python 3.10.1 64-bit",
   "language": "python",
   "name": "python3"
  },
  "language_info": {
   "codemirror_mode": {
    "name": "ipython",
    "version": 3
   },
   "file_extension": ".py",
   "mimetype": "text/x-python",
   "name": "python",
   "nbconvert_exporter": "python",
   "pygments_lexer": "ipython3",
   "version": "3.10.1"
  },
  "orig_nbformat": 4
 },
 "nbformat": 4,
 "nbformat_minor": 2
}
